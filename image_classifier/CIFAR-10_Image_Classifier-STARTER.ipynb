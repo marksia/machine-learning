{
 "cells": [
  {
   "cell_type": "markdown",
   "metadata": {},
   "source": [
    "# Introduction\n",
    "\n",
    "In this project, you will build a neural network of your own design to evaluate the CIFAR-10 dataset.\n",
    "\n",
    "To meet the requirements for this project, you will need to achieve an accuracy greater than 45%. \n",
    "If you want to beat Detectocorp's algorithm, you'll need to achieve an accuracy greater than 70%. \n",
    "(Beating Detectocorp's algorithm is not a requirement for passing this project, but you're encouraged to try!)\n",
    "\n",
    "Some of the benchmark results on CIFAR-10 include:\n",
    "\n",
    "78.9% Accuracy | [Deep Belief Networks; Krizhevsky, 2010](https://www.cs.toronto.edu/~kriz/conv-cifar10-aug2010.pdf)\n",
    "\n",
    "90.6% Accuracy | [Maxout Networks; Goodfellow et al., 2013](https://arxiv.org/pdf/1302.4389.pdf)\n",
    "\n",
    "96.0% Accuracy | [Wide Residual Networks; Zagoruyko et al., 2016](https://arxiv.org/pdf/1605.07146.pdf)\n",
    "\n",
    "99.0% Accuracy | [GPipe; Huang et al., 2018](https://arxiv.org/pdf/1811.06965.pdf)\n",
    "\n",
    "98.5% Accuracy | [Rethinking Recurrent Neural Networks and other Improvements for ImageClassification; Nguyen et al., 2020](https://arxiv.org/pdf/2007.15161.pdf)\n",
    "\n",
    "Research with this dataset is ongoing. Notably, many of these networks are quite large and quite expensive to train. \n",
    "\n",
    "## Imports"
   ]
  },
  {
   "cell_type": "code",
   "execution_count": 1,
   "metadata": {},
   "outputs": [],
   "source": [
    "## This cell contains the essential imports you will need – DO NOT CHANGE THE CONTENTS! ##\n",
    "import torch\n",
    "import torch.nn as nn\n",
    "import torch.nn.functional as F\n",
    "import torch.optim as optim\n",
    "import torchvision\n",
    "import torchvision.transforms as transforms\n",
    "import matplotlib.pyplot as plt\n",
    "import numpy as np"
   ]
  },
  {
   "cell_type": "markdown",
   "metadata": {},
   "source": [
    "## Load the Dataset\n",
    "\n",
    "Specify your transforms as a list first.\n",
    "The transforms module is already loaded as `transforms`.\n",
    "\n",
    "CIFAR-10 is fortunately included in the torchvision module.\n",
    "Then, you can create your dataset using the `CIFAR10` object from `torchvision.datasets` ([the documentation is available here](https://pytorch.org/docs/stable/torchvision/datasets.html#cifar)).\n",
    "Make sure to specify `download=True`! \n",
    "\n",
    "Once your dataset is created, you'll also need to define a `DataLoader` from the `torch.utils.data` module for both the train and the test set."
   ]
  },
  {
   "cell_type": "code",
   "execution_count": 2,
   "metadata": {},
   "outputs": [
    {
     "name": "stdout",
     "output_type": "stream",
     "text": [
      "Files already downloaded and verified\n",
      "Files already downloaded and verified\n"
     ]
    }
   ],
   "source": [
    "# Define transforms\n",
    "train_transforms = transforms.Compose([transforms.RandomRotation(30),\n",
    "                                transforms.RandomHorizontalFlip(),\n",
    "                                transforms.RandomResizedCrop(32),       \n",
    "                                transforms.ToTensor(),\n",
    "                                transforms.Normalize((0.5, 0.5, 0.5), (0.5, 0.5, 0.5))])\n",
    "\n",
    "test_transforms = transforms.Compose([transforms.ToTensor(),\n",
    "                                      transforms.Normalize((0.5, 0.5, 0.5), (0.5, 0.5, 0.5))]) \n",
    "\n",
    "# Create training set and define training dataloader\n",
    "trainset = torchvision.datasets.CIFAR10('./CIFAR10_data/train', train=True, download=True, transform=train_transforms)\n",
    "trainloader = torch.utils.data.DataLoader(trainset, batch_size=32, shuffle=True)\n",
    "\n",
    "# Create test set and define test dataloader\n",
    "testset = torchvision.datasets.CIFAR10('./CIFAR_10_data/test', train=False, download=True, transform=test_transforms)\n",
    "testloader = torch.utils.data.DataLoader(testset, batch_size=32, shuffle=False)\n",
    "\n",
    "\n",
    "# The 10 classes in the dataset\n",
    "classes = ('plane', 'car', 'bird', 'cat', 'deer', 'dog', 'frog', 'horse', 'ship', 'truck')"
   ]
  },
  {
   "cell_type": "markdown",
   "metadata": {},
   "source": [
    "## Explore the Dataset\n",
    "Using matplotlib, numpy, and torch, explore the dimensions of your data.\n",
    "\n",
    "You can view images using the `show5` function defined below – it takes a data loader as an argument.\n",
    "Remember that normalized images will look really weird to you! You may want to try changing your transforms to view images.\n",
    "Typically using no transforms other than `toTensor()` works well for viewing – but not as well for training your network.\n",
    "If `show5` doesn't work, go back and check your code for creating your data loaders and your training/test sets."
   ]
  },
  {
   "cell_type": "code",
   "execution_count": 3,
   "metadata": {},
   "outputs": [],
   "source": [
    "def show5(img_loader):\n",
    "    dataiter = iter(img_loader)\n",
    "    \n",
    "    batch = next(dataiter)\n",
    "    labels = batch[1][0:5]\n",
    "    images = batch[0][0:5]\n",
    "    for i in range(5):\n",
    "        print(classes[labels[i]])\n",
    "    \n",
    "        image = images[i].numpy()\n",
    "        plt.imshow(np.rot90(image.T, k=3))\n",
    "        plt.show()"
   ]
  },
  {
   "cell_type": "code",
   "execution_count": 4,
   "metadata": {},
   "outputs": [
    {
     "name": "stdout",
     "output_type": "stream",
     "text": [
      "Images shape:  torch.Size([3, 32, 32])\n",
      "Label shape:  torch.Size([32])\n",
      "Dataset CIFAR10\n",
      "    Number of datapoints: 50000\n",
      "    Split: train\n",
      "    Root Location: ./CIFAR10_data/train\n",
      "    Transforms (if any): Compose(\n",
      "                             RandomRotation(degrees=(-30, 30), resample=False, expand=False)\n",
      "                             RandomHorizontalFlip(p=0.5)\n",
      "                             RandomResizedCrop(size=(32, 32), scale=(0.08, 1.0), ratio=(0.75, 1.3333), interpolation=PIL.Image.BILINEAR)\n",
      "                             ToTensor()\n",
      "                             Normalize(mean=(0.5, 0.5, 0.5), std=(0.5, 0.5, 0.5))\n",
      "                         )\n",
      "    Target Transforms (if any): None\n",
      "\n",
      "\n",
      "Dataset CIFAR10\n",
      "    Number of datapoints: 10000\n",
      "    Split: test\n",
      "    Root Location: ./CIFAR_10_data/test\n",
      "    Transforms (if any): Compose(\n",
      "                             ToTensor()\n",
      "                             Normalize(mean=(0.5, 0.5, 0.5), std=(0.5, 0.5, 0.5))\n",
      "                         )\n",
      "    Target Transforms (if any): None\n"
     ]
    }
   ],
   "source": [
    "# Explore data\n",
    "# show5(testloader)\n",
    "\n",
    "dataiter = iter(testloader)\n",
    "batch = next(dataiter)\n",
    "\n",
    "print(\"Images shape: \", batch[0][0].shape)\n",
    "\n",
    "print(\"Label shape: \", batch[1].shape)\n",
    "\n",
    "print(trainset)\n",
    "print(\"\\n\")\n",
    "print(testset)\n"
   ]
  },
  {
   "cell_type": "markdown",
   "metadata": {},
   "source": [
    "## Build your Neural Network\n",
    "Using the layers in `torch.nn` (which has been imported as `nn`) and the `torch.nn.functional` module (imported as `F`), construct a neural network based on the parameters of the dataset. \n",
    "Feel free to construct a model of any architecture – feedforward, convolutional, or even something more advanced!"
   ]
  },
  {
   "cell_type": "code",
   "execution_count": 5,
   "metadata": {},
   "outputs": [],
   "source": [
    "class Classifier(nn.Module):\n",
    "    def __init__(self):\n",
    "        super().__init__()\n",
    "        self.cl1 = nn.Conv2d(3, 32, kernel_size=3, padding=1) # output = 32*32*32\n",
    "        self.batch_norm1 = nn.BatchNorm2d(32)\n",
    "        self.cl2 = nn.Conv2d(32, 32, kernel_size=3, padding=1) # output = 32*32*32\n",
    "        self.pool1 = nn.MaxPool2d(2,2) # output = 32*16*16\n",
    "        \n",
    "        self.cl3 = nn.Conv2d(32, 64, kernel_size=3, padding=1) # output = 64*16*16\n",
    "        self.batch_norm2 = nn.BatchNorm2d(64)\n",
    "        self.cl4 = nn.Conv2d(64, 64, kernel_size=3, padding=1) # output = 64*16*16\n",
    "        self.pool2 = nn.MaxPool2d(2,2) # output = 64*8*8\n",
    "        \n",
    "        self.cl5 = nn.Conv2d(64, 128, kernel_size=3, padding=1) # output = 128*8*8\n",
    "        self.batch_norm3 = nn.BatchNorm2d(128)\n",
    "        self.cl6 = nn.Conv2d(128, 128, kernel_size=3, padding=1) # output = 128*8*8\n",
    "        self.pool3 = nn.MaxPool2d(2,2) # output = 128*4*4\n",
    "        \n",
    "        self.dropout = nn.Dropout(p=0.5)\n",
    "        self.fc1 = nn.Linear(128*4*4, 128)\n",
    "        self.fc2 = nn.Linear(128, 10)\n",
    "        \n",
    "    def forward(self, x):\n",
    "        # Conv Layer 1st block\n",
    "        x = F.relu(self.cl1(x))\n",
    "        x = self.batch_norm1(x)\n",
    "        x = F.relu(self.cl2(x))\n",
    "        x = self.pool1(x)\n",
    "        \n",
    "        # Conv Layer 2nd block\n",
    "        x = F.relu(self.cl3(x))\n",
    "        x = self.batch_norm2(x)\n",
    "        x = F.relu(self.cl4(x))\n",
    "        x = self.pool2(x)\n",
    "        \n",
    "        # Conv Layer 3rd block\n",
    "        x = F.relu(self.cl5(x))\n",
    "        x = self.batch_norm3(x)\n",
    "        x = F.relu(self.cl6(x))\n",
    "        x = self.pool3(x)\n",
    "        \n",
    "        # Fully connected layer\n",
    "        x = x.view(x.shape[0], -1)\n",
    "        x = self.dropout(x)\n",
    "        x = F.relu(self.fc1(x))\n",
    "    \n",
    "        x = F.log_softmax(self.fc2(x), dim=1)\n",
    "        \n",
    "        return x\n",
    "    "
   ]
  },
  {
   "cell_type": "markdown",
   "metadata": {},
   "source": [
    "Specify a loss function and an optimizer, and instantiate the model.\n",
    "\n",
    "If you use a less common loss function, please note why you chose that loss function in a comment."
   ]
  },
  {
   "cell_type": "code",
   "execution_count": 6,
   "metadata": {},
   "outputs": [
    {
     "name": "stdout",
     "output_type": "stream",
     "text": [
      "Classifier(\n",
      "  (cl1): Conv2d(3, 32, kernel_size=(3, 3), stride=(1, 1), padding=(1, 1))\n",
      "  (batch_norm1): BatchNorm2d(32, eps=1e-05, momentum=0.1, affine=True, track_running_stats=True)\n",
      "  (cl2): Conv2d(32, 32, kernel_size=(3, 3), stride=(1, 1), padding=(1, 1))\n",
      "  (pool1): MaxPool2d(kernel_size=2, stride=2, padding=0, dilation=1, ceil_mode=False)\n",
      "  (cl3): Conv2d(32, 64, kernel_size=(3, 3), stride=(1, 1), padding=(1, 1))\n",
      "  (batch_norm2): BatchNorm2d(64, eps=1e-05, momentum=0.1, affine=True, track_running_stats=True)\n",
      "  (cl4): Conv2d(64, 64, kernel_size=(3, 3), stride=(1, 1), padding=(1, 1))\n",
      "  (pool2): MaxPool2d(kernel_size=2, stride=2, padding=0, dilation=1, ceil_mode=False)\n",
      "  (cl5): Conv2d(64, 128, kernel_size=(3, 3), stride=(1, 1), padding=(1, 1))\n",
      "  (batch_norm3): BatchNorm2d(128, eps=1e-05, momentum=0.1, affine=True, track_running_stats=True)\n",
      "  (cl6): Conv2d(128, 128, kernel_size=(3, 3), stride=(1, 1), padding=(1, 1))\n",
      "  (pool3): MaxPool2d(kernel_size=2, stride=2, padding=0, dilation=1, ceil_mode=False)\n",
      "  (dropout): Dropout(p=0.5)\n",
      "  (fc1): Linear(in_features=2048, out_features=128, bias=True)\n",
      "  (fc2): Linear(in_features=128, out_features=10, bias=True)\n",
      ")\n"
     ]
    }
   ],
   "source": [
    "\n",
    "\n",
    "model = Classifier()\n",
    "print(model)\n",
    "criterion = nn.NLLLoss()\n",
    "optimizer = optim.SGD(model.parameters(), lr=0.001, momentum=0.9)\n"
   ]
  },
  {
   "cell_type": "markdown",
   "metadata": {},
   "source": [
    "## Running your Neural Network\n",
    "Use whatever method you like to train your neural network, and ensure you record the average loss at each epoch. \n",
    "Don't forget to use `torch.device()` and the `.to()` method for both your model and your data if you are using GPU!\n",
    "\n",
    "If you want to print your loss during each epoch, you can use the `enumerate` function and print the loss after a set number of batches. 250 batches works well for most people!"
   ]
  },
  {
   "cell_type": "code",
   "execution_count": 7,
   "metadata": {},
   "outputs": [
    {
     "name": "stdout",
     "output_type": "stream",
     "text": [
      "Epoch: 1/20..  Training Loss: 2.194..  Test Loss: 1.952..  Test Accuracy: 0.284\n",
      "Epoch: 1/20..  Training Loss: 1.939..  Test Loss: 1.728..  Test Accuracy: 0.361\n",
      "Epoch: 1/20..  Training Loss: 1.887..  Test Loss: 1.711..  Test Accuracy: 0.371\n",
      "Epoch: 1/20..  Training Loss: 1.816..  Test Loss: 1.573..  Test Accuracy: 0.424\n",
      "Epoch: 1/20..  Training Loss: 1.781..  Test Loss: 1.573..  Test Accuracy: 0.419\n",
      "Epoch: 1/20..  Training Loss: 1.763..  Test Loss: 1.586..  Test Accuracy: 0.423\n",
      "Epoch: 2/20..  Training Loss: 1.728..  Test Loss: 1.490..  Test Accuracy: 0.454\n",
      "Epoch: 2/20..  Training Loss: 1.724..  Test Loss: 1.553..  Test Accuracy: 0.445\n",
      "Epoch: 2/20..  Training Loss: 1.660..  Test Loss: 1.442..  Test Accuracy: 0.475\n",
      "Epoch: 2/20..  Training Loss: 1.668..  Test Loss: 1.442..  Test Accuracy: 0.473\n",
      "Epoch: 2/20..  Training Loss: 1.632..  Test Loss: 1.382..  Test Accuracy: 0.502\n",
      "Epoch: 2/20..  Training Loss: 1.609..  Test Loss: 1.398..  Test Accuracy: 0.495\n",
      "Epoch: 3/20..  Training Loss: 1.617..  Test Loss: 1.376..  Test Accuracy: 0.493\n",
      "Epoch: 3/20..  Training Loss: 1.601..  Test Loss: 1.433..  Test Accuracy: 0.499\n",
      "Epoch: 3/20..  Training Loss: 1.574..  Test Loss: 1.297..  Test Accuracy: 0.538\n",
      "Epoch: 3/20..  Training Loss: 1.562..  Test Loss: 1.365..  Test Accuracy: 0.533\n",
      "Epoch: 3/20..  Training Loss: 1.560..  Test Loss: 1.275..  Test Accuracy: 0.540\n",
      "Epoch: 3/20..  Training Loss: 1.551..  Test Loss: 1.285..  Test Accuracy: 0.542\n",
      "Epoch: 4/20..  Training Loss: 1.526..  Test Loss: 1.237..  Test Accuracy: 0.554\n",
      "Epoch: 4/20..  Training Loss: 1.494..  Test Loss: 1.305..  Test Accuracy: 0.535\n",
      "Epoch: 4/20..  Training Loss: 1.515..  Test Loss: 1.271..  Test Accuracy: 0.554\n",
      "Epoch: 4/20..  Training Loss: 1.499..  Test Loss: 1.213..  Test Accuracy: 0.561\n",
      "Epoch: 4/20..  Training Loss: 1.494..  Test Loss: 1.298..  Test Accuracy: 0.553\n",
      "Epoch: 4/20..  Training Loss: 1.458..  Test Loss: 1.232..  Test Accuracy: 0.575\n",
      "Epoch: 4/20..  Training Loss: 1.460..  Test Loss: 1.183..  Test Accuracy: 0.588\n",
      "Epoch: 5/20..  Training Loss: 1.446..  Test Loss: 1.218..  Test Accuracy: 0.581\n",
      "Epoch: 5/20..  Training Loss: 1.463..  Test Loss: 1.197..  Test Accuracy: 0.580\n",
      "Epoch: 5/20..  Training Loss: 1.444..  Test Loss: 1.267..  Test Accuracy: 0.569\n",
      "Epoch: 5/20..  Training Loss: 1.426..  Test Loss: 1.143..  Test Accuracy: 0.596\n",
      "Epoch: 5/20..  Training Loss: 1.420..  Test Loss: 1.197..  Test Accuracy: 0.582\n",
      "Epoch: 5/20..  Training Loss: 1.417..  Test Loss: 1.235..  Test Accuracy: 0.564\n",
      "Epoch: 6/20..  Training Loss: 1.386..  Test Loss: 1.099..  Test Accuracy: 0.611\n",
      "Epoch: 6/20..  Training Loss: 1.386..  Test Loss: 1.116..  Test Accuracy: 0.603\n",
      "Epoch: 6/20..  Training Loss: 1.391..  Test Loss: 1.132..  Test Accuracy: 0.602\n",
      "Epoch: 6/20..  Training Loss: 1.390..  Test Loss: 1.116..  Test Accuracy: 0.606\n",
      "Epoch: 6/20..  Training Loss: 1.379..  Test Loss: 1.044..  Test Accuracy: 0.629\n",
      "Epoch: 6/20..  Training Loss: 1.379..  Test Loss: 1.150..  Test Accuracy: 0.599\n",
      "Epoch: 7/20..  Training Loss: 1.365..  Test Loss: 1.063..  Test Accuracy: 0.626\n",
      "Epoch: 7/20..  Training Loss: 1.374..  Test Loss: 1.042..  Test Accuracy: 0.632\n",
      "Epoch: 7/20..  Training Loss: 1.349..  Test Loss: 0.979..  Test Accuracy: 0.654\n",
      "Epoch: 7/20..  Training Loss: 1.362..  Test Loss: 1.011..  Test Accuracy: 0.646\n",
      "Epoch: 7/20..  Training Loss: 1.345..  Test Loss: 0.999..  Test Accuracy: 0.643\n",
      "Epoch: 7/20..  Training Loss: 1.350..  Test Loss: 1.028..  Test Accuracy: 0.639\n",
      "Epoch: 8/20..  Training Loss: 1.334..  Test Loss: 1.031..  Test Accuracy: 0.636\n",
      "Epoch: 8/20..  Training Loss: 1.319..  Test Loss: 1.134..  Test Accuracy: 0.615\n",
      "Epoch: 8/20..  Training Loss: 1.310..  Test Loss: 0.956..  Test Accuracy: 0.661\n",
      "Epoch: 8/20..  Training Loss: 1.315..  Test Loss: 0.978..  Test Accuracy: 0.652\n",
      "Epoch: 8/20..  Training Loss: 1.312..  Test Loss: 0.940..  Test Accuracy: 0.667\n",
      "Epoch: 8/20..  Training Loss: 1.323..  Test Loss: 0.975..  Test Accuracy: 0.659\n",
      "Epoch: 8/20..  Training Loss: 1.327..  Test Loss: 1.022..  Test Accuracy: 0.639\n",
      "Epoch: 9/20..  Training Loss: 1.293..  Test Loss: 0.958..  Test Accuracy: 0.660\n",
      "Epoch: 9/20..  Training Loss: 1.285..  Test Loss: 1.117..  Test Accuracy: 0.627\n",
      "Epoch: 9/20..  Training Loss: 1.285..  Test Loss: 0.940..  Test Accuracy: 0.669\n",
      "Epoch: 9/20..  Training Loss: 1.317..  Test Loss: 0.954..  Test Accuracy: 0.675\n",
      "Epoch: 9/20..  Training Loss: 1.307..  Test Loss: 0.985..  Test Accuracy: 0.659\n",
      "Epoch: 9/20..  Training Loss: 1.257..  Test Loss: 0.962..  Test Accuracy: 0.666\n",
      "Epoch: 10/20..  Training Loss: 1.278..  Test Loss: 0.930..  Test Accuracy: 0.674\n",
      "Epoch: 10/20..  Training Loss: 1.297..  Test Loss: 1.009..  Test Accuracy: 0.659\n",
      "Epoch: 10/20..  Training Loss: 1.270..  Test Loss: 0.970..  Test Accuracy: 0.665\n",
      "Epoch: 10/20..  Training Loss: 1.287..  Test Loss: 0.960..  Test Accuracy: 0.666\n",
      "Epoch: 10/20..  Training Loss: 1.270..  Test Loss: 0.983..  Test Accuracy: 0.661\n",
      "Epoch: 10/20..  Training Loss: 1.251..  Test Loss: 0.958..  Test Accuracy: 0.665\n",
      "Epoch: 11/20..  Training Loss: 1.260..  Test Loss: 0.923..  Test Accuracy: 0.687\n",
      "Epoch: 11/20..  Training Loss: 1.229..  Test Loss: 0.875..  Test Accuracy: 0.698\n",
      "Epoch: 11/20..  Training Loss: 1.244..  Test Loss: 0.887..  Test Accuracy: 0.691\n",
      "Epoch: 11/20..  Training Loss: 1.237..  Test Loss: 0.887..  Test Accuracy: 0.694\n",
      "Epoch: 11/20..  Training Loss: 1.245..  Test Loss: 0.938..  Test Accuracy: 0.677\n",
      "Epoch: 11/20..  Training Loss: 1.271..  Test Loss: 0.923..  Test Accuracy: 0.683\n",
      "Epoch: 12/20..  Training Loss: 1.234..  Test Loss: 0.992..  Test Accuracy: 0.667\n",
      "Epoch: 12/20..  Training Loss: 1.208..  Test Loss: 0.875..  Test Accuracy: 0.692\n",
      "Epoch: 12/20..  Training Loss: 1.233..  Test Loss: 0.897..  Test Accuracy: 0.689\n",
      "Epoch: 12/20..  Training Loss: 1.213..  Test Loss: 0.930..  Test Accuracy: 0.677\n",
      "Epoch: 12/20..  Training Loss: 1.231..  Test Loss: 0.903..  Test Accuracy: 0.685\n",
      "Epoch: 12/20..  Training Loss: 1.221..  Test Loss: 0.880..  Test Accuracy: 0.697\n",
      "Epoch: 12/20..  Training Loss: 1.212..  Test Loss: 0.878..  Test Accuracy: 0.698\n",
      "Epoch: 13/20..  Training Loss: 1.207..  Test Loss: 0.830..  Test Accuracy: 0.713\n",
      "Epoch: 13/20..  Training Loss: 1.202..  Test Loss: 0.913..  Test Accuracy: 0.684\n",
      "Epoch: 13/20..  Training Loss: 1.225..  Test Loss: 0.870..  Test Accuracy: 0.701\n",
      "Epoch: 13/20..  Training Loss: 1.185..  Test Loss: 0.907..  Test Accuracy: 0.691\n",
      "Epoch: 13/20..  Training Loss: 1.205..  Test Loss: 0.857..  Test Accuracy: 0.708\n",
      "Epoch: 13/20..  Training Loss: 1.179..  Test Loss: 0.904..  Test Accuracy: 0.697\n",
      "Epoch: 14/20..  Training Loss: 1.215..  Test Loss: 0.857..  Test Accuracy: 0.714\n",
      "Epoch: 14/20..  Training Loss: 1.196..  Test Loss: 0.829..  Test Accuracy: 0.715\n",
      "Epoch: 14/20..  Training Loss: 1.187..  Test Loss: 0.856..  Test Accuracy: 0.709\n",
      "Epoch: 14/20..  Training Loss: 1.193..  Test Loss: 0.855..  Test Accuracy: 0.703\n",
      "Epoch: 14/20..  Training Loss: 1.187..  Test Loss: 0.827..  Test Accuracy: 0.719\n",
      "Epoch: 14/20..  Training Loss: 1.199..  Test Loss: 0.834..  Test Accuracy: 0.713\n",
      "Epoch: 15/20..  Training Loss: 1.183..  Test Loss: 0.817..  Test Accuracy: 0.720\n",
      "Epoch: 15/20..  Training Loss: 1.180..  Test Loss: 0.890..  Test Accuracy: 0.706\n",
      "Epoch: 15/20..  Training Loss: 1.178..  Test Loss: 0.917..  Test Accuracy: 0.697\n",
      "Epoch: 15/20..  Training Loss: 1.191..  Test Loss: 0.811..  Test Accuracy: 0.723\n",
      "Epoch: 15/20..  Training Loss: 1.177..  Test Loss: 0.831..  Test Accuracy: 0.714\n",
      "Epoch: 15/20..  Training Loss: 1.171..  Test Loss: 0.824..  Test Accuracy: 0.715\n",
      "Epoch: 16/20..  Training Loss: 1.167..  Test Loss: 0.835..  Test Accuracy: 0.717\n",
      "Epoch: 16/20..  Training Loss: 1.172..  Test Loss: 0.871..  Test Accuracy: 0.705\n",
      "Epoch: 16/20..  Training Loss: 1.166..  Test Loss: 0.761..  Test Accuracy: 0.737\n",
      "Epoch: 16/20..  Training Loss: 1.167..  Test Loss: 0.785..  Test Accuracy: 0.733\n",
      "Epoch: 16/20..  Training Loss: 1.163..  Test Loss: 0.806..  Test Accuracy: 0.721\n",
      "Epoch: 16/20..  Training Loss: 1.147..  Test Loss: 0.852..  Test Accuracy: 0.713\n",
      "Epoch: 16/20..  Training Loss: 1.156..  Test Loss: 0.814..  Test Accuracy: 0.722\n",
      "Epoch: 17/20..  Training Loss: 1.130..  Test Loss: 0.826..  Test Accuracy: 0.715\n",
      "Epoch: 17/20..  Training Loss: 1.143..  Test Loss: 0.822..  Test Accuracy: 0.718\n",
      "Epoch: 17/20..  Training Loss: 1.147..  Test Loss: 0.816..  Test Accuracy: 0.722\n",
      "Epoch: 17/20..  Training Loss: 1.172..  Test Loss: 0.839..  Test Accuracy: 0.712\n",
      "Epoch: 17/20..  Training Loss: 1.132..  Test Loss: 0.823..  Test Accuracy: 0.720\n",
      "Epoch: 17/20..  Training Loss: 1.137..  Test Loss: 0.859..  Test Accuracy: 0.715\n",
      "Epoch: 18/20..  Training Loss: 1.139..  Test Loss: 0.775..  Test Accuracy: 0.732\n",
      "Epoch: 18/20..  Training Loss: 1.116..  Test Loss: 0.786..  Test Accuracy: 0.733\n",
      "Epoch: 18/20..  Training Loss: 1.134..  Test Loss: 0.793..  Test Accuracy: 0.727\n",
      "Epoch: 18/20..  Training Loss: 1.142..  Test Loss: 0.790..  Test Accuracy: 0.728\n",
      "Epoch: 18/20..  Training Loss: 1.146..  Test Loss: 0.770..  Test Accuracy: 0.737\n",
      "Epoch: 18/20..  Training Loss: 1.120..  Test Loss: 0.782..  Test Accuracy: 0.734\n",
      "Epoch: 19/20..  Training Loss: 1.129..  Test Loss: 0.750..  Test Accuracy: 0.739\n",
      "Epoch: 19/20..  Training Loss: 1.128..  Test Loss: 0.796..  Test Accuracy: 0.728\n",
      "Epoch: 19/20..  Training Loss: 1.110..  Test Loss: 0.771..  Test Accuracy: 0.736\n",
      "Epoch: 19/20..  Training Loss: 1.135..  Test Loss: 0.838..  Test Accuracy: 0.719\n",
      "Epoch: 19/20..  Training Loss: 1.127..  Test Loss: 0.761..  Test Accuracy: 0.741\n",
      "Epoch: 19/20..  Training Loss: 1.116..  Test Loss: 0.790..  Test Accuracy: 0.731\n",
      "Epoch: 20/20..  Training Loss: 1.114..  Test Loss: 0.792..  Test Accuracy: 0.727\n",
      "Epoch: 20/20..  Training Loss: 1.118..  Test Loss: 0.874..  Test Accuracy: 0.710\n",
      "Epoch: 20/20..  Training Loss: 1.113..  Test Loss: 0.730..  Test Accuracy: 0.748\n",
      "Epoch: 20/20..  Training Loss: 1.109..  Test Loss: 0.809..  Test Accuracy: 0.731\n",
      "Epoch: 20/20..  Training Loss: 1.125..  Test Loss: 0.730..  Test Accuracy: 0.749\n",
      "Epoch: 20/20..  Training Loss: 1.105..  Test Loss: 0.772..  Test Accuracy: 0.736\n",
      "Epoch: 20/20..  Training Loss: 1.115..  Test Loss: 0.820..  Test Accuracy: 0.727\n"
     ]
    }
   ],
   "source": [
    "device = torch.device(\"cuda\" if torch.cuda.is_available() else \"cpu\")\n",
    "\n",
    "model.to(device)\n",
    "\n",
    "epochs = 20\n",
    "steps = 0\n",
    "print_every = 250\n",
    "\n",
    "train_losses = []\n",
    "test_losses = []\n",
    "\n",
    "running_loss = 0\n",
    "\n",
    "for e in range(epochs):\n",
    "    \n",
    "    for images, labels in trainloader:\n",
    "        steps += 1\n",
    "        \n",
    "        images, labels = images.to(device), labels.to(device)\n",
    "        \n",
    "        optimizer.zero_grad()\n",
    "        \n",
    "        log_ps = model.forward(images)\n",
    "        loss = criterion(log_ps, labels)\n",
    "        loss.backward()\n",
    "        optimizer.step()\n",
    "        \n",
    "        running_loss += loss.item()\n",
    "        \n",
    "        if steps % print_every == 0:\n",
    "            test_loss = 0\n",
    "            accuracy = 0\n",
    "            \n",
    "            model.eval()\n",
    "            \n",
    "            with torch.no_grad():\n",
    "                for images, labels in testloader:\n",
    "                    images, labels = images.to(device), labels.to(device)\n",
    "                    \n",
    "                    log_ps = model.forward(images)\n",
    "                    test_loss += criterion(log_ps, labels)\n",
    "                    \n",
    "                    ps = torch.exp(log_ps)\n",
    "                    top_p, top_class = ps.topk(1, dim=1)\n",
    "                    equals = top_class == labels.view(top_class.shape)\n",
    "                    accuracy += torch.mean(equals.type(torch.FloatTensor))\n",
    "                    \n",
    "            model.train()\n",
    "            \n",
    "            train_losses.append(running_loss/print_every)\n",
    "            test_losses.append(test_loss/len(testloader))\n",
    "\n",
    "            print(\"Epoch: {}/{}.. \".format(e+1, epochs),\n",
    "              \"Training Loss: {:.3f}.. \".format(running_loss/print_every),\n",
    "              \"Test Loss: {:.3f}.. \".format(test_loss/len(testloader)),\n",
    "              \"Test Accuracy: {:.3f}\".format(accuracy/len(testloader)))\n",
    "        \n",
    "            running_loss = 0\n",
    "\n"
   ]
  },
  {
   "cell_type": "markdown",
   "metadata": {},
   "source": [
    "Plot the training loss (and validation loss/accuracy, if recorded)."
   ]
  },
  {
   "cell_type": "code",
   "execution_count": 8,
   "metadata": {},
   "outputs": [],
   "source": [
    "%matplotlib inline\n",
    "\n",
    "import matplotlib.pyplot as plt"
   ]
  },
  {
   "cell_type": "code",
   "execution_count": 9,
   "metadata": {},
   "outputs": [
    {
     "data": {
      "text/plain": [
       "<matplotlib.legend.Legend at 0x7f22e565a898>"
      ]
     },
     "execution_count": 9,
     "metadata": {},
     "output_type": "execute_result"
    },
    {
     "data": {
      "image/png": "[encoded data removed]",
      "text/plain": [
       "<matplotlib.figure.Figure at 0x7f22e55efcc0>"
      ]
     },
     "metadata": {
      "needs_background": "light"
     },
     "output_type": "display_data"
    }
   ],
   "source": [
    "plt.plot(train_losses, label='Training Loss')\n",
    "plt.plot(test_losses, label='Testing Loss')\n",
    "plt.legend(frameon=False)\n"
   ]
  },
  {
   "cell_type": "markdown",
   "metadata": {},
   "source": [
    "## Testing your model\n",
    "Using the previously created `DataLoader` for the test set, compute the percentage of correct predictions using the highest probability prediction. \n",
    "\n",
    "If your accuracy is over 70%, great work! \n",
    "This is a hard task to exceed 70% on.\n",
    "\n",
    "If your accuracy is under 45%, you'll need to make improvements.\n",
    "Go back and check your model architecture, loss function, and optimizer to make sure they're appropriate for an image classification task."
   ]
  },
  {
   "cell_type": "code",
   "execution_count": 10,
   "metadata": {},
   "outputs": [
    {
     "name": "stdout",
     "output_type": "stream",
     "text": [
      "Test Accuracy Percentage: 73.223%\n"
     ]
    }
   ],
   "source": [
    "accuracy = 0\n",
    "with torch.no_grad():\n",
    "    for images, labels in testloader:\n",
    "        images, labels = images.to(device), labels.to(device)\n",
    "\n",
    "        log_ps = model.forward(images)\n",
    "        test_loss += criterion(log_ps, labels)\n",
    "\n",
    "        ps = torch.exp(log_ps)\n",
    "        top_p, top_class = ps.topk(1, dim=1)\n",
    "        equals = top_class == labels.view(top_class.shape)\n",
    "        accuracy += torch.mean(equals.type(torch.FloatTensor))\n",
    "        \n",
    "    print(\"Test Accuracy Percentage: {:.3f}%\".format(accuracy/len(testloader)*100))"
   ]
  },
  {
   "cell_type": "markdown",
   "metadata": {},
   "source": [
    "## Saving your model\n",
    "Using `torch.save`, save your model for future loading."
   ]
  },
  {
   "cell_type": "code",
   "execution_count": 11,
   "metadata": {},
   "outputs": [],
   "source": [
    "torch.save(model.state_dict(), 'checkpoint.pth')"
   ]
  },
  {
   "cell_type": "markdown",
   "metadata": {},
   "source": [
    "## Make a Recommendation\n",
    "\n",
    "Based on your evaluation, what is your recommendation on whether to build or buy? Explain your reasoning below.\n",
    "\n",
    "Some things to consider as you formulate your recommendation:\n",
    "* How does your model compare to Detectocorp's model?\n",
    "* How does it compare to the far more advanced solutions in the literature? \n",
    "* What did you do to get the accuracy you achieved? \n",
    "* Is it necessary to improve this accuracy? If so, what sort of work would be involved in improving it?"
   ]
  },
  {
   "cell_type": "markdown",
   "metadata": {},
   "source": [
    "My model performed better than Detectocorp's model! In order to achieve this accuracy of >70%, I had to use a convolutional neural network setup with 3 convolutional layers and 2 fully connected layers. Also, along the way, adding I had to add an extra convolutional layer, batch normalization and padding to achieve a higher accuracy compared to earlier models. To further improve the accuracy, we can train the model for more epochs, add additional regularization techniques such as dropout on the convolution and fully connected layers.\n",
    "\n",
    "In Rethinking Recurrent Neural Networks and other Improvements for ImageClassification; Nguyen et al., 2020, more advanced models can be created by using the ensemble method of training multiple models and combining them to achieve a better result.\n",
    "\n",
    "We should definitely go ahead to build our own image classifier rather than buying it off Detectocorp, since building it inhouse already exceeds the benchmark set by Detectocorp. Moreover, we can continue to improve the accuracy based by implementing more advanced models based on existing research literatures."
   ]
  },
  {
   "cell_type": "markdown",
   "metadata": {},
   "source": [
    "## Submit Your Project\n",
    "\n",
    "When you are finished editing the notebook and are ready to turn it in, simply click the **SUBMIT PROJECT** button in the lower right.\n",
    "\n",
    "Once you submit your project, we'll review your work and give you feedback if there's anything that you need to work on. If you'd like to see the exact points that your reviewer will check for when looking at your work, you can have a look over the project [rubric](https://review.udacity.com/#!/rubrics/3077/view)."
   ]
  }
 ],
 "metadata": {
  "kernelspec": {
   "display_name": "Python 3",
   "language": "python",
   "name": "python3"
  },
  "language_info": {
   "codemirror_mode": {
    "name": "ipython",
    "version": 3
   },
   "file_extension": ".py",
   "mimetype": "text/x-python",
   "name": "python",
   "nbconvert_exporter": "python",
   "pygments_lexer": "ipython3",
   "version": "3.6.3"
  }
 },
 "nbformat": 4,
 "nbformat_minor": 4
}
